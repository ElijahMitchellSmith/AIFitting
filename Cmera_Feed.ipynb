{
 "cells": [
  {
   "cell_type": "code",
   "execution_count": 5,
   "id": "67ceb646-302e-45e7-8f5f-113dd48fa305",
   "metadata": {
    "tags": []
   },
   "outputs": [],
   "source": [
    "'''The Program will be able to take input from the users camera, the goal is for it to eventually be able to\n",
    "recognize the human body and create determine the measurement of the users clothes'''\n",
    "\n",
    "import numpy as np\n",
    "import cv2 as cv\n",
    "\n",
    "cap = cv.VideoCapture(0) # capturing data from only one, existing camera\n",
    "if not cap.isOpened():\n",
    "    print('Cannot Open Camera')\n",
    "    exit()\n",
    "while True:\n",
    "    # capture frame by frame\n",
    "    ret, frame = cap.read()\n",
    "\n",
    "    # if frame is read correctly ret is True\n",
    "    if not ret:\n",
    "        print(\"Can't receive frame (stream end?). Exiting....\")\n",
    "        break\n",
    "\n",
    "    # display modified fram\n",
    "    cv.imshow('frame', frame)\n",
    "    if cv.waitKey(1) == ord('q'):\n",
    "        break;\n",
    "\n",
    "\n",
    "# release video capture\n",
    "cap.release()\n",
    "cv.destroyAllWindows()"
   ]
  },
  {
   "cell_type": "code",
   "execution_count": null,
   "id": "d7927457-c1fc-431f-8ccc-f91c82229f1d",
   "metadata": {},
   "outputs": [],
   "source": []
  }
 ],
 "metadata": {
  "kernelspec": {
   "display_name": "Python 3 (ipykernel)",
   "language": "python",
   "name": "python3"
  },
  "language_info": {
   "codemirror_mode": {
    "name": "ipython",
    "version": 3
   },
   "file_extension": ".py",
   "mimetype": "text/x-python",
   "name": "python",
   "nbconvert_exporter": "python",
   "pygments_lexer": "ipython3",
   "version": "3.11.4"
  }
 },
 "nbformat": 4,
 "nbformat_minor": 5
}
